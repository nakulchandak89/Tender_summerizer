{
 "cells": [
  {
   "cell_type": "code",
   "execution_count": 56,
   "metadata": {},
   "outputs": [],
   "source": [
    "import PyPDF2\n",
    "from transformers import pipeline\n",
    "from fpdf import FPDF\n"
   ]
  },
  {
   "cell_type": "code",
   "execution_count": 57,
   "metadata": {},
   "outputs": [],
   "source": [
    "def extract_text_from_pdf(pdf_path):\n",
    "    try:\n",
    "        with open(pdf_path, 'rb') as file:\n",
    "            reader = PyPDF2.PdfReader(file)\n",
    "            text = ''\n",
    "            for page in reader.pages:\n",
    "                text += page.extract_text()\n",
    "            return text\n",
    "    except FileNotFoundError:\n",
    "        print(f\"Error: File not found at {pdf_path}\")\n",
    "        return None\n",
    "    except Exception as e:\n",
    "        print(f\"An error occurred: {e}\")\n",
    "        return None\n"
   ]
  },
  {
   "cell_type": "code",
   "execution_count": 58,
   "metadata": {},
   "outputs": [],
   "source": [
    "def summarize_text(text, max_length=130, min_length=100):\n",
    "    try:\n",
    "        summarizer = pipeline(\"summarization\", model=\"facebook/bart-large-cnn\")\n",
    "        summary_result = summarizer(text, max_length=max_length, min_length=min_length, do_sample=False)\n",
    "        return summary_result[0]['summary_text']\n",
    "    except Exception as e:\n",
    "        print(f\"An error occurred during summarization: {e}\")\n",
    "        return None\n"
   ]
  },
  {
   "cell_type": "code",
   "execution_count": 59,
   "metadata": {},
   "outputs": [],
   "source": [
    "def save_summary_to_pdf(summary, output_path):\n",
    "    pdf = FPDF()\n",
    "    pdf.set_auto_page_break(auto=True, margin=15)\n",
    "    pdf.add_page()\n",
    "    pdf.set_font(\"Arial\", size=12)\n",
    "    \n",
    "    # Add title\n",
    "    pdf.set_font(\"Arial\", style=\"B\", size=16)\n",
    "    pdf.cell(0, 10, \"Summary\", ln=True, align=\"C\")\n",
    "    pdf.ln(10)  # Add a line break\n",
    "    \n",
    "    # Add summary text\n",
    "    pdf.set_font(\"Arial\", size=12)\n",
    "    pdf.multi_cell(0, 10, summary)\n",
    "    \n",
    "    # Save the PDF to the specified path\n",
    "    pdf.output(output_path)\n",
    "    print(f\"Summary saved to {output_path}\")\n"
   ]
  },
  {
   "cell_type": "markdown",
   "metadata": {},
   "source": [
    "ijqsijawpd scacaacaac"
   ]
  },
  {
   "cell_type": "code",
   "execution_count": 60,
   "metadata": {},
   "outputs": [
    {
     "name": "stdout",
     "output_type": "stream",
     "text": [
      "Extracted text from the PDF (first 500 characters):\n",
      "Augmented reality – an important aspect \n",
      "of Industry 4.0  \n",
      "Aatish  Sharma , Raied  Mehtab , Sanjay  Mohan , Mohd Kamal  Mohd Shah   \n",
      "Industrial Robot  \n",
      "ISSN:  0143 -991x  \n",
      "Article publication date: 23 November 2021  Permissions   \n",
      "Issue publication date: 21 April 2022  \n",
      "DOWNLOADS  \n",
      "735 \n",
      "Abstract  \n",
      "Purpose  \n",
      "Augmented reality (AR) integrates the digital world with the real world and \n",
      "thus, provides a real -time experience to the users. With AR, the immediate \n",
      "surroundings become a learning platfo\n"
     ]
    },
    {
     "name": "stderr",
     "output_type": "stream",
     "text": [
      "Device set to use cuda:0\n"
     ]
    },
    {
     "name": "stdout",
     "output_type": "stream",
     "text": [
      "\n",
      "Generated Summary:\n",
      "Augmented reality (AR) integrates the digital world with the real world and provides a real -time experience to the users. This paper summarizes the usefulness of AR in different industries. The preference of AR over virtual reality (VR) has also been deliberate in this paper. The paper has been divided into various sections and subsections to bring more clarity to the readers. The selection of literature has been made based upon the significance ofAR in recent times. The processes in industries have become very handy and informative with AR.\n",
      "Summary saved to summary_output.pdf\n"
     ]
    }
   ],
   "source": [
    "# Example Usage\n",
    "pdf_path = \"Augmented reality an imo aspect of industry with world perspective.pdf\"  # Replace with your PDF file path\n",
    "extracted_text = extract_text_from_pdf(pdf_path)\n",
    "\n",
    "if extracted_text:\n",
    "    print(\"Extracted text from the PDF (first 500 characters):\")\n",
    "    print(extracted_text[:500])  # Print the first 500 characters for verification\n",
    "    \n",
    "    # Summarize the extracted text\n",
    "    summary_text = summarize_text(extracted_text)\n",
    "    \n",
    "    if summary_text:\n",
    "        print(\"\\nGenerated Summary:\")\n",
    "        print(summary_text)\n",
    "        \n",
    "        # Save the summary to a PDF\n",
    "        output_pdf_path = \"summary_output.pdf\"  # Replace with your desired output file path\n",
    "        save_summary_to_pdf(summary_text, output_pdf_path)\n"
   ]
  }
 ],
 "metadata": {
  "kernelspec": {
   "display_name": "Python 3",
   "language": "python",
   "name": "python3"
  },
  "language_info": {
   "codemirror_mode": {
    "name": "ipython",
    "version": 3
   },
   "file_extension": ".py",
   "mimetype": "text/x-python",
   "name": "python",
   "nbconvert_exporter": "python",
   "pygments_lexer": "ipython3",
   "version": "3.10.10"
  }
 },
 "nbformat": 4,
 "nbformat_minor": 2
}
